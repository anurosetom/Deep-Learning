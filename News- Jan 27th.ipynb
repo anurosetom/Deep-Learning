{
 "cells": [
  {
   "cell_type": "code",
   "execution_count": 10,
   "metadata": {},
   "outputs": [],
   "source": [
    "from keras.datasets import reuters\n",
    "(train_data,train_labels),(test_data,test_labels)=reuters.load_data(num_words=10000)"
   ]
  },
  {
   "cell_type": "code",
   "execution_count": 2,
   "metadata": {},
   "outputs": [
    {
     "name": "stdout",
     "output_type": "stream",
     "text": [
      "8982\n",
      "2246\n",
      "[1, 2, 2, 8, 43, 10, 447, 5, 25, 207, 270, 5, 3095, 111, 16, 369, 186, 90, 67, 7, 89, 5, 19, 102, 6, 19, 124, 15, 90, 67, 84, 22, 482, 26, 7, 48, 4, 49, 8, 864, 39, 209, 154, 6, 151, 6, 83, 11, 15, 22, 155, 11, 15, 7, 48, 9, 4579, 1005, 504, 6, 258, 6, 272, 11, 15, 22, 134, 44, 11, 15, 16, 8, 197, 1245, 90, 67, 52, 29, 209, 30, 32, 132, 6, 109, 15, 17, 12]\n"
     ]
    }
   ],
   "source": [
    "print(len(train_data))\n",
    "print(len(test_data))\n",
    "print(train_data[0])"
   ]
  },
  {
   "cell_type": "code",
   "execution_count": 3,
   "metadata": {},
   "outputs": [
    {
     "name": "stdout",
     "output_type": "stream",
     "text": [
      "the of of mln loss for plc said at only ended said commonwealth could 1 traders now april 0 a after said from 1985 and from foreign 000 april 0 prices its account year a but in this mln home an states earlier and rise and revs vs 000 its 16 vs 000 a but 3 psbr oils several and shareholders and dividend vs 000 its all 4 vs 000 1 mln agreed largely april 0 are 2 states will billion total and against 000 pct dlrs\n"
     ]
    }
   ],
   "source": [
    "word_index=reuters.get_word_index()\n",
    "#print(word_index)\n",
    "reverse_word_index=dict([(value,key) for (key,value) in word_index.items()])\n",
    "#print(reverse_word_index)\n",
    "decoded_newswire=' '.join([reverse_word_index.get(i) for i in train_data[0]])\n",
    "print(decoded_newswire)"
   ]
  },
  {
   "cell_type": "code",
   "execution_count": 4,
   "metadata": {},
   "outputs": [
    {
     "name": "stdout",
     "output_type": "stream",
     "text": [
      "[0. 1. 1. ... 0. 0. 0.]\n",
      "10000\n",
      "10000\n",
      "10000\n"
     ]
    }
   ],
   "source": [
    "import numpy as np\n",
    "def vectorize_sequences(sequences,dimension=10000):\n",
    "    result=np.zeros((len(sequences),dimension))\n",
    "    for i,sequence in enumerate(sequences):\n",
    "        result[i,sequence]=1\n",
    "    return result\n",
    "\n",
    "x_train=vectorize_sequences(train_data)\n",
    "x_test=vectorize_sequences(test_data)\n",
    "print(x_train[0])\n",
    "print(len(x_train[0]))\n",
    "print(len(x_train[5]))\n",
    "print(len(x_train[9]))\n",
    "\n"
   ]
  },
  {
   "cell_type": "code",
   "execution_count": 5,
   "metadata": {},
   "outputs": [
    {
     "name": "stdout",
     "output_type": "stream",
     "text": [
      "[ 3  4  3 ... 25  3 25]\n"
     ]
    }
   ],
   "source": [
    "print(train_labels)"
   ]
  },
  {
   "cell_type": "code",
   "execution_count": 6,
   "metadata": {},
   "outputs": [
    {
     "name": "stdout",
     "output_type": "stream",
     "text": [
      "[0. 0. 0. 1. 0. 0. 0. 0. 0. 0. 0. 0. 0. 0. 0. 0. 0. 0. 0. 0. 0. 0. 0. 0.\n",
      " 0. 0. 0. 0. 0. 0. 0. 0. 0. 0. 0. 0. 0. 0. 0. 0. 0. 0. 0. 0. 0. 0.]\n",
      "46\n"
     ]
    }
   ],
   "source": [
    "from keras.utils.np_utils import to_categorical\n",
    "one_hot_train_labels=to_categorical(train_labels)\n",
    "one_hot_test_labels=to_categorical(test_labels)\n",
    "print(one_hot_test_labels[0])\n",
    "print(len(one_hot_test_labels[0]))"
   ]
  },
  {
   "cell_type": "code",
   "execution_count": 7,
   "metadata": {},
   "outputs": [],
   "source": [
    "from keras import models\n",
    "from keras import layers\n",
    "model=models.Sequential()\n",
    "model.add(layers.Dense(64, activation='relu',input_shape=(10000,)))\n",
    "model.add(layers.Dense(64,activation='relu'))\n",
    "model.add(layers.Dense(46,activation='softmax'))\n",
    "\n",
    "model.compile(optimizer='rmsprop',loss='categorical_crossentropy',metrics=['accuracy'])\n"
   ]
  },
  {
   "cell_type": "code",
   "execution_count": 8,
   "metadata": {},
   "outputs": [],
   "source": [
    "x_val=x_train[:1000]\n",
    "partial_x_train=x_train[1000:]\n",
    "y_val=one_hot_train_labels[:1000]\n",
    "partial_y_train=one_hot_train_labels[1000:]"
   ]
  },
  {
   "cell_type": "code",
   "execution_count": 9,
   "metadata": {},
   "outputs": [
    {
     "name": "stdout",
     "output_type": "stream",
     "text": [
      "Epoch 1/20\n",
      "16/16 [==============================] - 12s 329ms/step - loss: 3.2105 - accuracy: 0.3647 - val_loss: 1.7233 - val_accuracy: 0.6490\n",
      "Epoch 2/20\n",
      "16/16 [==============================] - 2s 127ms/step - loss: 1.5081 - accuracy: 0.7032 - val_loss: 1.2852 - val_accuracy: 0.7220\n",
      "Epoch 3/20\n",
      "16/16 [==============================] - 2s 123ms/step - loss: 1.1025 - accuracy: 0.7766 - val_loss: 1.1327 - val_accuracy: 0.7540\n",
      "Epoch 4/20\n",
      "16/16 [==============================] - 2s 120ms/step - loss: 0.8438 - accuracy: 0.8252 - val_loss: 1.0457 - val_accuracy: 0.7860\n",
      "Epoch 5/20\n",
      "16/16 [==============================] - 2s 112ms/step - loss: 0.6853 - accuracy: 0.8557 - val_loss: 0.9769 - val_accuracy: 0.8130\n",
      "Epoch 6/20\n",
      "16/16 [==============================] - 2s 117ms/step - loss: 0.5566 - accuracy: 0.8863 - val_loss: 0.9415 - val_accuracy: 0.8070\n",
      "Epoch 7/20\n",
      "16/16 [==============================] - 2s 139ms/step - loss: 0.4392 - accuracy: 0.9108 - val_loss: 0.9032 - val_accuracy: 0.8110\n",
      "Epoch 8/20\n",
      "16/16 [==============================] - 2s 147ms/step - loss: 0.3364 - accuracy: 0.9335 - val_loss: 0.9043 - val_accuracy: 0.8180\n",
      "Epoch 9/20\n",
      "16/16 [==============================] - 2s 134ms/step - loss: 0.2944 - accuracy: 0.9388 - val_loss: 0.9159 - val_accuracy: 0.8070\n",
      "Epoch 10/20\n",
      "16/16 [==============================] - 2s 134ms/step - loss: 0.2423 - accuracy: 0.9470 - val_loss: 0.9194 - val_accuracy: 0.8260\n",
      "Epoch 11/20\n",
      "16/16 [==============================] - 2s 130ms/step - loss: 0.2148 - accuracy: 0.9479 - val_loss: 0.9209 - val_accuracy: 0.8100\n",
      "Epoch 12/20\n",
      "16/16 [==============================] - 2s 135ms/step - loss: 0.1818 - accuracy: 0.9553 - val_loss: 0.9973 - val_accuracy: 0.8000\n",
      "Epoch 13/20\n",
      "16/16 [==============================] - 2s 137ms/step - loss: 0.1827 - accuracy: 0.9504 - val_loss: 0.9416 - val_accuracy: 0.8130\n",
      "Epoch 14/20\n",
      "16/16 [==============================] - 2s 140ms/step - loss: 0.1504 - accuracy: 0.9588 - val_loss: 0.9953 - val_accuracy: 0.8020\n",
      "Epoch 15/20\n",
      "16/16 [==============================] - 2s 134ms/step - loss: 0.1243 - accuracy: 0.9614 - val_loss: 0.9937 - val_accuracy: 0.8150\n",
      "Epoch 16/20\n",
      "16/16 [==============================] - 2s 140ms/step - loss: 0.1243 - accuracy: 0.9613 - val_loss: 0.9984 - val_accuracy: 0.8190\n",
      "Epoch 17/20\n",
      "16/16 [==============================] - 2s 116ms/step - loss: 0.1242 - accuracy: 0.9620 - val_loss: 1.0304 - val_accuracy: 0.8130\n",
      "Epoch 18/20\n",
      "16/16 [==============================] - 2s 126ms/step - loss: 0.1112 - accuracy: 0.9620 - val_loss: 1.0314 - val_accuracy: 0.8130\n",
      "Epoch 19/20\n",
      "16/16 [==============================] - 2s 129ms/step - loss: 0.1096 - accuracy: 0.9632 - val_loss: 1.0394 - val_accuracy: 0.8080\n",
      "Epoch 20/20\n",
      "16/16 [==============================] - 2s 138ms/step - loss: 0.0972 - accuracy: 0.9624 - val_loss: 1.1362 - val_accuracy: 0.7940\n"
     ]
    }
   ],
   "source": [
    "history=model.fit(partial_x_train,partial_y_train,epochs=20,batch_size=512,\n",
    "          validation_data=(x_val,y_val))"
   ]
  },
  {
   "cell_type": "code",
   "execution_count": 12,
   "metadata": {},
   "outputs": [
    {
     "data": {
      "image/png": "[encoded data removed]",
      "text/plain": [
       "<Figure size 432x288 with 1 Axes>"
      ]
     },
     "metadata": {
      "needs_background": "light"
     },
     "output_type": "display_data"
    }
   ],
   "source": [
    "import matplotlib.pyplot as plt\n",
    "history_dict=history.history\n",
    "#print(history_dict)\n",
    "acc=history_dict['accuracy']\n",
    "loss_values=history_dict['loss']\n",
    "val_loss_values=history_dict['val_loss']\n",
    "epochs=range(1,len(acc)+1)\n",
    "#print(epochs)\n",
    "plt.plot(epochs,loss_values,'bo',label=\"Training Loss\")\n",
    "plt.plot(epochs,val_loss_values,'b',label=\"Validation Loss\")\n",
    "plt.title(\"Training and Validation Loss\")\n",
    "plt.xlabel(\"Epochs\")\n",
    "plt.ylabel(\"Loss\")\n",
    "plt.legend()\n",
    "plt.show()"
   ]
  },
  {
   "cell_type": "code",
   "execution_count": 13,
   "metadata": {},
   "outputs": [
    {
     "data": {
      "image/png": "[encoded data removed]",
      "text/plain": [
       "<Figure size 432x288 with 1 Axes>"
      ]
     },
     "metadata": {
      "needs_background": "light"
     },
     "output_type": "display_data"
    }
   ],
   "source": [
    "plt.clf()\n",
    "acc=history_dict['accuracy']\n",
    "val_acc=history_dict['val_accuracy']\n",
    "plt.plot(epochs,acc,'bo',label='Training Acc')\n",
    "plt.plot(epochs,val_acc,'b',label='Validation Acc')\n",
    "plt.title(\"Training and Validation Acc\")\n",
    "plt.xlabel(\"Epochs\")\n",
    "plt.ylabel(\"Accuracy\")\n",
    "plt.legend()\n",
    "plt.show()"
   ]
  },
  {
   "cell_type": "code",
   "execution_count": 18,
   "metadata": {},
   "outputs": [
    {
     "name": "stdout",
     "output_type": "stream",
     "text": [
      "Epoch 1/10\n",
      "16/16 [==============================] - 19s 730ms/step - loss: 0.0798 - accuracy: 0.9595 - val_loss: 1.4183 - val_accuracy: 0.7830\n",
      "Epoch 2/10\n",
      "16/16 [==============================] - 17s 1s/step - loss: 0.0800 - accuracy: 0.9595 - val_loss: 1.4598 - val_accuracy: 0.7830\n",
      "Epoch 3/10\n",
      "16/16 [==============================] - 11s 695ms/step - loss: 0.0781 - accuracy: 0.9582 - val_loss: 1.4548 - val_accuracy: 0.7690\n",
      "Epoch 4/10\n",
      "16/16 [==============================] - 12s 780ms/step - loss: 0.0819 - accuracy: 0.9559 - val_loss: 1.5056 - val_accuracy: 0.7640\n",
      "Epoch 5/10\n",
      "16/16 [==============================] - 11s 724ms/step - loss: 0.0791 - accuracy: 0.9583 - val_loss: 1.4239 - val_accuracy: 0.7790\n",
      "Epoch 6/10\n",
      "16/16 [==============================] - 9s 605ms/step - loss: 0.0763 - accuracy: 0.9593 - val_loss: 1.4855 - val_accuracy: 0.7790\n",
      "Epoch 7/10\n",
      "16/16 [==============================] - 10s 672ms/step - loss: 0.0792 - accuracy: 0.9593 - val_loss: 1.4563 - val_accuracy: 0.7760\n",
      "Epoch 8/10\n",
      "16/16 [==============================] - 11s 703ms/step - loss: 0.0792 - accuracy: 0.9579 - val_loss: 1.4791 - val_accuracy: 0.7710\n",
      "Epoch 9/10\n",
      "16/16 [==============================] - 11s 744ms/step - loss: 0.0767 - accuracy: 0.9592 - val_loss: 1.5014 - val_accuracy: 0.7710\n",
      "Epoch 10/10\n",
      "16/16 [==============================] - 13s 839ms/step - loss: 0.0772 - accuracy: 0.9583 - val_loss: 1.4796 - val_accuracy: 0.7790\n"
     ]
    }
   ],
   "source": [
    "history=model.fit(partial_x_train,partial_y_train,epochs=10,batch_size=512,\n",
    "          validation_data=(x_val,y_val))"
   ]
  },
  {
   "cell_type": "code",
   "execution_count": 14,
   "metadata": {},
   "outputs": [
    {
     "name": "stdout",
     "output_type": "stream",
     "text": [
      "[1.60445683e-08 3.65143052e-07 1.13570020e-09 9.99347389e-01\n",
      " 6.04361063e-04 2.07380974e-10 6.36188255e-11 5.19565440e-08\n",
      " 9.35005119e-07 1.04815767e-09 9.05193198e-10 1.18793014e-05\n",
      " 1.47591992e-08 3.12770226e-07 2.28390888e-07 9.13095266e-10\n",
      " 1.15029741e-06 1.45196291e-08 6.09860695e-09 1.60502759e-06\n",
      " 3.01519412e-05 1.18276624e-07 8.29334879e-10 4.54962958e-07\n",
      " 2.16037410e-09 4.09218570e-09 5.18268584e-09 2.35042435e-07\n",
      " 2.26142888e-07 1.08780455e-07 8.91696033e-08 6.35780928e-10\n",
      " 1.43632315e-08 1.79797581e-08 4.74148329e-08 3.25707517e-11\n",
      " 2.34669514e-07 2.99590064e-09 3.40495028e-08 2.34722659e-08\n",
      " 2.75626011e-09 4.20657429e-08 3.14201748e-10 1.11434521e-10\n",
      " 1.82284365e-09 4.21871871e-10]\n",
      "46\n",
      "1.0000001\n",
      "3\n",
      "3\n"
     ]
    }
   ],
   "source": [
    "predictions=model.predict(x_test)\n",
    "print(predictions[0])\n",
    "print(len(predictions[0]))\n",
    "print(np.sum(predictions[0]))\n",
    "print(np.argmax(predictions[0]))\n",
    "print(test_labels[0])"
   ]
  },
  {
   "cell_type": "code",
   "execution_count": null,
   "metadata": {},
   "outputs": [],
   "source": []
  }
 ],
 "metadata": {
  "kernelspec": {
   "display_name": "Python 3",
   "language": "python",
   "name": "python3"
  },
  "language_info": {
   "codemirror_mode": {
    "name": "ipython",
    "version": 3
   },
   "file_extension": ".py",
   "mimetype": "text/x-python",
   "name": "python",
   "nbconvert_exporter": "python",
   "pygments_lexer": "ipython3",
   "version": "3.7.4"
  }
 },
 "nbformat": 4,
 "nbformat_minor": 2
}

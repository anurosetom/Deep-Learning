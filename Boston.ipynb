{
 "cells": [
  {
   "cell_type": "code",
   "execution_count": 1,
   "metadata": {},
   "outputs": [
    {
     "name": "stdout",
     "output_type": "stream",
     "text": [
      "Downloading data from https://storage.googleapis.com/tensorflow/tf-keras-datasets/boston_housing.npz\n",
      "57344/57026 [==============================] - 0s 4us/step\n",
      "(404, 13)\n",
      "(102, 13)\n"
     ]
    }
   ],
   "source": [
    "from keras.datasets import boston_housing\n",
    "(train_data,train_targets),(test_data,test_targets)=boston_housing.load_data()\n",
    "print(train_data.shape)\n",
    "print(test_data.shape)"
   ]
  },
  {
   "cell_type": "code",
   "execution_count": 4,
   "metadata": {},
   "outputs": [
    {
     "name": "stdout",
     "output_type": "stream",
     "text": [
      "[[1.23247e+00 0.00000e+00 8.14000e+00 0.00000e+00 5.38000e-01 6.14200e+00\n",
      "  9.17000e+01 3.97690e+00 4.00000e+00 3.07000e+02 2.10000e+01 3.96900e+02\n",
      "  1.87200e+01]\n",
      " [2.17700e-02 8.25000e+01 2.03000e+00 0.00000e+00 4.15000e-01 7.61000e+00\n",
      "  1.57000e+01 6.27000e+00 2.00000e+00 3.48000e+02 1.47000e+01 3.95380e+02\n",
      "  3.11000e+00]\n",
      " [4.89822e+00 0.00000e+00 1.81000e+01 0.00000e+00 6.31000e-01 4.97000e+00\n",
      "  1.00000e+02 1.33250e+00 2.40000e+01 6.66000e+02 2.02000e+01 3.75520e+02\n",
      "  3.26000e+00]]\n",
      "[  1.23247   0.        8.14      0.        0.538     6.142    91.7\n",
      "   3.9769    4.      307.       21.      396.9      18.72   ]\n",
      "13\n"
     ]
    }
   ],
   "source": [
    "print(train_data[:3])\n",
    "print(train_data[:3][0])\n",
    "print(len(train_data[:3][0]))"
   ]
  },
  {
   "cell_type": "code",
   "execution_count": 6,
   "metadata": {},
   "outputs": [
    {
     "name": "stdout",
     "output_type": "stream",
     "text": [
      "[3.74511057e+00 1.14801980e+01 1.11044307e+01 6.18811881e-02\n",
      " 5.57355941e-01 6.26708168e+00 6.90106436e+01 3.74027079e+00\n",
      " 9.44059406e+00 4.05898515e+02 1.84759901e+01 3.54783168e+02\n",
      " 1.27408168e+01]\n",
      "13\n"
     ]
    }
   ],
   "source": [
    "mean=train_data.mean(axis=0)\n",
    "print(mean)\n",
    "print(len(mean))"
   ]
  },
  {
   "cell_type": "code",
   "execution_count": 7,
   "metadata": {},
   "outputs": [],
   "source": [
    "train_data-=mean\n",
    "std=train_data.std(axis=0)\n",
    "train_data/=std"
   ]
  },
  {
   "cell_type": "code",
   "execution_count": 8,
   "metadata": {},
   "outputs": [],
   "source": [
    "test_data-=mean\n",
    "test_data/=std"
   ]
  },
  {
   "cell_type": "code",
   "execution_count": 9,
   "metadata": {},
   "outputs": [
    {
     "name": "stdout",
     "output_type": "stream",
     "text": [
      "[15.2 42.3 50.  21.1 17.7 18.5 11.3 15.6 15.6 14.4 12.1 17.9 23.1 19.9\n",
      " 15.7  8.8 50.  22.5 24.1 27.5 10.9 30.8 32.9 24.  18.5 13.3 22.9 34.7\n",
      " 16.6 17.5 22.3 16.1 14.9 23.1 34.9 25.  13.9 13.1 20.4 20.  15.2 24.7\n",
      " 22.2 16.7 12.7 15.6 18.4 21.  30.1 15.1 18.7  9.6 31.5 24.8 19.1 22.\n",
      " 14.5 11.  32.  29.4 20.3 24.4 14.6 19.5 14.1 14.3 15.6 10.5  6.3 19.3\n",
      " 19.3 13.4 36.4 17.8 13.5 16.5  8.3 14.3 16.  13.4 28.6 43.5 20.2 22.\n",
      " 23.  20.7 12.5 48.5 14.6 13.4 23.7 50.  21.7 39.8 38.7 22.2 34.9 22.5\n",
      " 31.1 28.7 46.  41.7 21.  26.6 15.  24.4 13.3 21.2 11.7 21.7 19.4 50.\n",
      " 22.8 19.7 24.7 36.2 14.2 18.9 18.3 20.6 24.6 18.2  8.7 44.  10.4 13.2\n",
      " 21.2 37.  30.7 22.9 20.  19.3 31.7 32.  23.1 18.8 10.9 50.  19.6  5.\n",
      " 14.4 19.8 13.8 19.6 23.9 24.5 25.  19.9 17.2 24.6 13.5 26.6 21.4 11.9\n",
      " 22.6 19.6  8.5 23.7 23.1 22.4 20.5 23.6 18.4 35.2 23.1 27.9 20.6 23.7\n",
      " 28.  13.6 27.1 23.6 20.6 18.2 21.7 17.1  8.4 25.3 13.8 22.2 18.4 20.7\n",
      " 31.6 30.5 20.3  8.8 19.2 19.4 23.1 23.  14.8 48.8 22.6 33.4 21.1 13.6\n",
      " 32.2 13.1 23.4 18.9 23.9 11.8 23.3 22.8 19.6 16.7 13.4 22.2 20.4 21.8\n",
      " 26.4 14.9 24.1 23.8 12.3 29.1 21.  19.5 23.3 23.8 17.8 11.5 21.7 19.9\n",
      " 25.  33.4 28.5 21.4 24.3 27.5 33.1 16.2 23.3 48.3 22.9 22.8 13.1 12.7\n",
      " 22.6 15.  15.3 10.5 24.  18.5 21.7 19.5 33.2 23.2  5.  19.1 12.7 22.3\n",
      " 10.2 13.9 16.3 17.  20.1 29.9 17.2 37.3 45.4 17.8 23.2 29.  22.  18.\n",
      " 17.4 34.6 20.1 25.  15.6 24.8 28.2 21.2 21.4 23.8 31.  26.2 17.4 37.9\n",
      " 17.5 20.   8.3 23.9  8.4 13.8  7.2 11.7 17.1 21.6 50.  16.1 20.4 20.6\n",
      " 21.4 20.6 36.5  8.5 24.8 10.8 21.9 17.3 18.9 36.2 14.9 18.2 33.3 21.8\n",
      " 19.7 31.6 24.8 19.4 22.8  7.5 44.8 16.8 18.7 50.  50.  19.5 20.1 50.\n",
      " 17.2 20.8 19.3 41.3 20.4 20.5 13.8 16.5 23.9 20.6 31.5 23.3 16.8 14.\n",
      " 33.8 36.1 12.8 18.3 18.7 19.1 29.  30.1 50.  50.  22.  11.9 37.6 50.\n",
      " 22.7 20.8 23.5 27.9 50.  19.3 23.9 22.6 15.2 21.7 19.2 43.8 20.3 33.2\n",
      " 19.9 22.5 32.7 22.  17.1 19.  15.  16.1 25.1 23.7 28.7 37.2 22.6 16.4\n",
      " 25.  29.8 22.1 17.4 18.1 30.3 17.5 24.7 12.6 26.5 28.7 13.3 10.4 24.4\n",
      " 23.  20.  17.8  7.  11.8 24.4 13.8 19.4 25.2 19.4 19.4 29.1]\n"
     ]
    }
   ],
   "source": [
    "#print(train_targets)"
   ]
  },
  {
   "cell_type": "code",
   "execution_count": 15,
   "metadata": {},
   "outputs": [],
   "source": [
    "from keras import models\n",
    "from keras import layers\n",
    "\n",
    "#iteration\n",
    "\n",
    "def build_model():\n",
    "    model=models.Sequential()\n",
    "    model.add(layers.Dense(64,activation='relu',input_shape=(train_data.shape[1],)))\n",
    "    model.add(layers.Dense(64,activation='relu'))\n",
    "    model.add(layers.Dense(1))#regression scenario\n",
    "    model.compile(optimizer='rmsprop',loss='mse',metrics=['mae'])\n",
    "    return model\n"
   ]
  },
  {
   "cell_type": "code",
   "execution_count": 14,
   "metadata": {},
   "outputs": [
    {
     "name": "stdout",
     "output_type": "stream",
     "text": [
      "101\n"
     ]
    }
   ],
   "source": [
    "import numpy as np\n",
    "k=4#splitting training data into 4\n",
    "num_val_samples=len(train_data)//k\n",
    "print(num_val_samples)"
   ]
  },
  {
   "cell_type": "code",
   "execution_count": 17,
   "metadata": {},
   "outputs": [
    {
     "name": "stdout",
     "output_type": "stream",
     "text": [
      "processing fold no.:  0\n",
      "Epoch 1/20\n",
      "303/303 [==============================] - 8s 5ms/step - loss: 470.8835 - mae: 18.5373\n",
      "Epoch 2/20\n",
      "303/303 [==============================] - 1s 3ms/step - loss: 28.0339 - mae: 3.6465\n",
      "Epoch 3/20\n",
      "303/303 [==============================] - 1s 2ms/step - loss: 19.9273 - mae: 3.0148\n",
      "Epoch 4/20\n",
      "303/303 [==============================] - 1s 2ms/step - loss: 14.7266 - mae: 2.7412\n",
      "Epoch 5/20\n",
      "303/303 [==============================] - 1s 2ms/step - loss: 15.2728 - mae: 2.6196\n",
      "Epoch 6/20\n",
      "303/303 [==============================] - 1s 2ms/step - loss: 10.5125 - mae: 2.3850\n",
      "Epoch 7/20\n",
      "303/303 [==============================] - 1s 2ms/step - loss: 12.0328 - mae: 2.4182\n",
      "Epoch 8/20\n",
      "303/303 [==============================] - 1s 2ms/step - loss: 11.7966 - mae: 2.2539\n",
      "Epoch 9/20\n",
      "303/303 [==============================] - 1s 2ms/step - loss: 14.8552 - mae: 2.4731\n",
      "Epoch 10/20\n",
      "303/303 [==============================] - 1s 2ms/step - loss: 9.5247 - mae: 2.2492\n",
      "Epoch 11/20\n",
      "303/303 [==============================] - 1s 2ms/step - loss: 8.4880 - mae: 2.0760\n",
      "Epoch 12/20\n",
      "303/303 [==============================] - 1s 2ms/step - loss: 7.6923 - mae: 2.0478\n",
      "Epoch 13/20\n",
      "303/303 [==============================] - 1s 2ms/step - loss: 12.1434 - mae: 2.2706\n",
      "Epoch 14/20\n",
      "303/303 [==============================] - 1s 2ms/step - loss: 13.4116 - mae: 2.4149\n",
      "Epoch 15/20\n",
      "303/303 [==============================] - 1s 2ms/step - loss: 10.1193 - mae: 2.0723\n",
      "Epoch 16/20\n",
      "303/303 [==============================] - 1s 2ms/step - loss: 9.6388 - mae: 2.1737\n",
      "Epoch 17/20\n",
      "303/303 [==============================] - 1s 2ms/step - loss: 10.8834 - mae: 2.3632\n",
      "Epoch 18/20\n",
      "303/303 [==============================] - 1s 2ms/step - loss: 6.9101 - mae: 1.9315\n",
      "Epoch 19/20\n",
      "303/303 [==============================] - 1s 2ms/step - loss: 8.4410 - mae: 2.1223\n",
      "Epoch 20/20\n",
      "303/303 [==============================] - 1s 2ms/step - loss: 6.7007 - mae: 1.8141\n",
      "4/4 [==============================] - 1s 12ms/step - loss: 9.0187 - mae: 2.0283\n",
      "processing fold no.:  1\n",
      "Epoch 1/20\n",
      "303/303 [==============================] - 2s 2ms/step - loss: 365.5181 - mae: 16.0579\n",
      "Epoch 2/20\n",
      "303/303 [==============================] - 1s 2ms/step - loss: 24.5848 - mae: 3.4685\n",
      "Epoch 3/20\n",
      "303/303 [==============================] - 1s 2ms/step - loss: 16.2062 - mae: 2.7691\n",
      "Epoch 4/20\n",
      "303/303 [==============================] - 1s 2ms/step - loss: 15.2015 - mae: 2.7633\n",
      "Epoch 5/20\n",
      "303/303 [==============================] - 1s 2ms/step - loss: 16.5706 - mae: 2.6317\n",
      "Epoch 6/20\n",
      "303/303 [==============================] - 1s 2ms/step - loss: 12.9301 - mae: 2.5198\n",
      "Epoch 7/20\n",
      "303/303 [==============================] - 1s 2ms/step - loss: 12.4188 - mae: 2.3668\n",
      "Epoch 8/20\n",
      "303/303 [==============================] - 0s 2ms/step - loss: 12.5152 - mae: 2.3397\n",
      "Epoch 9/20\n",
      "303/303 [==============================] - 1s 2ms/step - loss: 18.9021 - mae: 2.7522\n",
      "Epoch 10/20\n",
      "303/303 [==============================] - 1s 2ms/step - loss: 7.9511 - mae: 1.9824\n",
      "Epoch 11/20\n",
      "303/303 [==============================] - 1s 2ms/step - loss: 8.5406 - mae: 2.1215\n",
      "Epoch 12/20\n",
      "303/303 [==============================] - 1s 2ms/step - loss: 10.6382 - mae: 2.2832\n",
      "Epoch 13/20\n",
      "303/303 [==============================] - 1s 2ms/step - loss: 10.4392 - mae: 2.1160\n",
      "Epoch 14/20\n",
      "303/303 [==============================] - 1s 2ms/step - loss: 12.9203 - mae: 2.2458\n",
      "Epoch 15/20\n",
      "303/303 [==============================] - 1s 2ms/step - loss: 12.4522 - mae: 2.2688\n",
      "Epoch 16/20\n",
      "303/303 [==============================] - 1s 2ms/step - loss: 9.4565 - mae: 2.0513\n",
      "Epoch 17/20\n",
      "303/303 [==============================] - 1s 2ms/step - loss: 6.7381 - mae: 1.6631\n",
      "Epoch 18/20\n",
      "303/303 [==============================] - 1s 2ms/step - loss: 9.2540 - mae: 1.9619\n",
      "Epoch 19/20\n",
      "303/303 [==============================] - 1s 2ms/step - loss: 8.4692 - mae: 1.8971\n",
      "Epoch 20/20\n",
      "303/303 [==============================] - 1s 2ms/step - loss: 10.6838 - mae: 2.0397\n",
      "4/4 [==============================] - 1s 23ms/step - loss: 11.1151 - mae: 2.5741\n",
      "processing fold no.:  2\n",
      "Epoch 1/20\n",
      "303/303 [==============================] - 9s 2ms/step - loss: 381.2632 - mae: 16.7280\n",
      "Epoch 2/20\n",
      "303/303 [==============================] - 1s 2ms/step - loss: 28.6086 - mae: 3.8550\n",
      "Epoch 3/20\n",
      "303/303 [==============================] - 1s 2ms/step - loss: 20.6902 - mae: 3.1605\n",
      "Epoch 4/20\n",
      "303/303 [==============================] - 1s 2ms/step - loss: 19.4640 - mae: 2.9218\n",
      "Epoch 5/20\n",
      "303/303 [==============================] - 1s 2ms/step - loss: 22.1263 - mae: 3.1043\n",
      "Epoch 6/20\n",
      "303/303 [==============================] - 1s 2ms/step - loss: 18.3188 - mae: 2.6081\n",
      "Epoch 7/20\n",
      "303/303 [==============================] - 1s 2ms/step - loss: 11.8585 - mae: 2.4811\n",
      "Epoch 8/20\n",
      "303/303 [==============================] - 1s 2ms/step - loss: 9.0799 - mae: 2.1350\n",
      "Epoch 9/20\n",
      "303/303 [==============================] - 1s 2ms/step - loss: 12.4102 - mae: 2.4626\n",
      "Epoch 10/20\n",
      "303/303 [==============================] - 1s 2ms/step - loss: 10.5052 - mae: 2.2707\n",
      "Epoch 11/20\n",
      "303/303 [==============================] - 1s 2ms/step - loss: 7.4890 - mae: 1.9365\n",
      "Epoch 12/20\n",
      "303/303 [==============================] - 1s 2ms/step - loss: 10.9331 - mae: 2.3047\n",
      "Epoch 13/20\n",
      "303/303 [==============================] - 1s 2ms/step - loss: 13.3433 - mae: 2.4015\n",
      "Epoch 14/20\n",
      "303/303 [==============================] - 1s 2ms/step - loss: 10.7150 - mae: 2.1756\n",
      "Epoch 15/20\n",
      "303/303 [==============================] - 1s 2ms/step - loss: 10.0956 - mae: 2.1960\n",
      "Epoch 16/20\n",
      "303/303 [==============================] - 1s 2ms/step - loss: 9.0461 - mae: 1.9920\n",
      "Epoch 17/20\n",
      "303/303 [==============================] - 1s 2ms/step - loss: 7.0236 - mae: 1.8499\n",
      "Epoch 18/20\n",
      "303/303 [==============================] - 1s 2ms/step - loss: 8.9611 - mae: 2.0724\n",
      "Epoch 19/20\n",
      "303/303 [==============================] - 1s 2ms/step - loss: 9.6455 - mae: 2.1569\n",
      "Epoch 20/20\n",
      "303/303 [==============================] - 1s 2ms/step - loss: 7.3273 - mae: 1.7567\n",
      "4/4 [==============================] - 0s 5ms/step - loss: 14.6044 - mae: 2.4308\n",
      "processing fold no.:  3\n",
      "Epoch 1/20\n",
      "303/303 [==============================] - 2s 2ms/step - loss: 375.8812 - mae: 16.5287\n",
      "Epoch 2/20\n",
      "303/303 [==============================] - 1s 2ms/step - loss: 34.9836 - mae: 3.9549\n",
      "Epoch 3/20\n",
      "303/303 [==============================] - 1s 2ms/step - loss: 22.9500 - mae: 3.1119\n",
      "Epoch 4/20\n",
      "303/303 [==============================] - 1s 2ms/step - loss: 15.0498 - mae: 2.6034\n",
      "Epoch 5/20\n",
      "303/303 [==============================] - 1s 2ms/step - loss: 23.9170 - mae: 2.7072\n",
      "Epoch 6/20\n",
      "303/303 [==============================] - 1s 2ms/step - loss: 19.4484 - mae: 2.6727\n",
      "Epoch 7/20\n",
      "303/303 [==============================] - 1s 2ms/step - loss: 11.0539 - mae: 2.0862\n",
      "Epoch 8/20\n",
      "303/303 [==============================] - 1s 2ms/step - loss: 20.0303 - mae: 2.5076\n",
      "Epoch 9/20\n",
      "303/303 [==============================] - 1s 2ms/step - loss: 10.0362 - mae: 2.2371\n",
      "Epoch 10/20\n",
      "303/303 [==============================] - 1s 2ms/step - loss: 9.1268 - mae: 2.1035\n",
      "Epoch 11/20\n",
      "303/303 [==============================] - 1s 2ms/step - loss: 8.5083 - mae: 2.0009\n",
      "Epoch 12/20\n",
      "303/303 [==============================] - 1s 2ms/step - loss: 9.4636 - mae: 1.9164\n",
      "Epoch 13/20\n",
      "303/303 [==============================] - 1s 2ms/step - loss: 11.0621 - mae: 2.1372\n",
      "Epoch 14/20\n",
      "303/303 [==============================] - 1s 2ms/step - loss: 10.6984 - mae: 2.0888\n",
      "Epoch 15/20\n",
      "303/303 [==============================] - 1s 2ms/step - loss: 8.4524 - mae: 1.8535\n",
      "Epoch 16/20\n",
      "303/303 [==============================] - 1s 2ms/step - loss: 6.4620 - mae: 1.8837\n",
      "Epoch 17/20\n",
      "303/303 [==============================] - 1s 2ms/step - loss: 7.8156 - mae: 1.8304\n",
      "Epoch 18/20\n",
      "303/303 [==============================] - 1s 2ms/step - loss: 7.3832 - mae: 1.8752\n",
      "Epoch 19/20\n",
      "303/303 [==============================] - 1s 2ms/step - loss: 7.8231 - mae: 1.8296\n",
      "Epoch 20/20\n",
      "303/303 [==============================] - 1s 2ms/step - loss: 6.4617 - mae: 1.7651\n",
      "4/4 [==============================] - 1s 4ms/step - loss: 14.3229 - mae: 2.5218\n"
     ]
    }
   ],
   "source": [
    "num_epochs=20\n",
    "all_scores=[]\n",
    "for i in range(k):\n",
    "    print(\"processing fold no.: \",i)\n",
    "    val_data=train_data[i*num_val_samples:(i+1)*num_val_samples]\n",
    "    val_target=train_targets[i*num_val_samples:(i+1)*num_val_samples]\n",
    "    partial_train_data=np.concatenate([train_data[:i*num_val_samples] ,train_data[(i+1)*num_val_samples:]],axis=0)\n",
    "    partial_train_target=np.concatenate([train_targets[:i*num_val_samples] ,train_targets[(i+1)*num_val_samples:]],axis=0)\n",
    "    model=build_model()\n",
    "    model.fit(partial_train_data,partial_train_target,epochs=num_epochs,batch_size=1)\n",
    "    val_mse,val_mae=model.evaluate(val_data,val_target)\n",
    "    all_scores.append(val_mae)\n",
    "    "
   ]
  },
  {
   "cell_type": "code",
   "execution_count": 18,
   "metadata": {},
   "outputs": [
    {
     "name": "stdout",
     "output_type": "stream",
     "text": [
      "[2.0282785892486572, 2.5740866661071777, 2.430835485458374, 2.5217790603637695]\n"
     ]
    },
    {
     "data": {
      "text/plain": [
       "2.3887449502944946"
      ]
     },
     "execution_count": 18,
     "metadata": {},
     "output_type": "execute_result"
    }
   ],
   "source": [
    "print(all_scores)\n",
    "np.mean(all_scores)"
   ]
  },
  {
   "cell_type": "code",
   "execution_count": null,
   "metadata": {},
   "outputs": [],
   "source": []
  }
 ],
 "metadata": {
  "kernelspec": {
   "display_name": "Python 3",
   "language": "python",
   "name": "python3"
  },
  "language_info": {
   "codemirror_mode": {
    "name": "ipython",
    "version": 3
   },
   "file_extension": ".py",
   "mimetype": "text/x-python",
   "name": "python",
   "nbconvert_exporter": "python",
   "pygments_lexer": "ipython3",
   "version": "3.7.4"
  }
 },
 "nbformat": 4,
 "nbformat_minor": 2
}

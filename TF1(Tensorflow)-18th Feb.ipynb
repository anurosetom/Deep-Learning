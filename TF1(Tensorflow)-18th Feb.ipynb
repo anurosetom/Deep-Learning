{
 "cells": [
  {
   "cell_type": "code",
   "execution_count": 33,
   "metadata": {},
   "outputs": [
    {
     "data": {
      "text/plain": [
       "<module 'tensorflow._api.v2.version' from 'C:\\\\Users\\\\vaio\\\\AppData\\\\Roaming\\\\Python\\\\Python37\\\\site-packages\\\\tensorflow\\\\_api\\\\v2\\\\version\\\\__init__.py'>"
      ]
     },
     "execution_count": 33,
     "metadata": {},
     "output_type": "execute_result"
    }
   ],
   "source": [
    "#import tensorflow as tf\n",
    "#tf.version"
   ]
  },
  {
   "cell_type": "code",
   "execution_count": 37,
   "metadata": {},
   "outputs": [],
   "source": [
    "import tensorflow.compat.v1 as tf\n",
    "tf.disable_v2_behavior()"
   ]
  },
  {
   "cell_type": "markdown",
   "metadata": {},
   "source": [
    "# 1)Construction state"
   ]
  },
  {
   "cell_type": "code",
   "execution_count": 38,
   "metadata": {},
   "outputs": [],
   "source": [
    "#x1,x2,z are nodes\n",
    "x1=tf.constant(1)\n",
    "x2=tf.constant(2)\n",
    "z=tf.add(x1,x2)"
   ]
  },
  {
   "cell_type": "markdown",
   "metadata": {},
   "source": [
    "# 2)Evaluation state"
   ]
  },
  {
   "cell_type": "code",
   "execution_count": 40,
   "metadata": {},
   "outputs": [
    {
     "name": "stdout",
     "output_type": "stream",
     "text": [
      "3\n"
     ]
    }
   ],
   "source": [
    "sess=tf.Session()\n",
    "\n",
    "print(sess.run(z))\n",
    "sess.close()"
   ]
  },
  {
   "cell_type": "code",
   "execution_count": 41,
   "metadata": {},
   "outputs": [
    {
     "name": "stdout",
     "output_type": "stream",
     "text": [
      "3\n"
     ]
    }
   ],
   "source": [
    "x1 = tf.Variable(1)\n",
    "x2 = tf.Variable(2)\n",
    "z = tf.add(x1,x2)\n",
    "\n",
    "sess =tf.Session()\n",
    "init=tf.global_variables_initializer()\n",
    "sess.run(init)\n",
    "print(sess.run(z))\n",
    "sess.close()"
   ]
  },
  {
   "cell_type": "code",
   "execution_count": 11,
   "metadata": {},
   "outputs": [
    {
     "name": "stdout",
     "output_type": "stream",
     "text": [
      "[3. 6.]\n"
     ]
    }
   ],
   "source": [
    "x1=tf.placeholder(tf.float32,2)\n",
    "x2=tf.placeholder(tf.float32,2)\n",
    "z = tf.add(x1,x2)\n",
    "\n",
    "sess=tf.Session()\n",
    "feed_dict={x1:[1,5],x2:[2,1]}\n",
    "print(sess.run(z,feed_dict))\n",
    "sess.close()"
   ]
  },
  {
   "cell_type": "code",
   "execution_count": 42,
   "metadata": {},
   "outputs": [
    {
     "name": "stdout",
     "output_type": "stream",
     "text": [
      "[14.]\n"
     ]
    }
   ],
   "source": [
    "x1 = tf.placeholder(tf.float32, 1)\n",
    "w1 = tf.placeholder(tf.float32, 1)\n",
    "x2 = tf.placeholder(tf.float32, 1)\n",
    "w2 = tf.placeholder(tf.float32, 1)\n",
    "z1=tf.multiply(x1,w1)\n",
    "z2=tf.multiply(x2,w2)\n",
    "z3=tf.add(z1,z2)\n",
    "\n",
    "feed_dict={x1:[1],w1:[2],x2:[3],w2:[4]}\n",
    "sess=tf.Session()\n",
    "print(sess.run(z3,feed_dict))\n",
    "sess.close()"
   ]
  },
  {
   "cell_type": "code",
   "execution_count": 43,
   "metadata": {},
   "outputs": [
    {
     "name": "stdout",
     "output_type": "stream",
     "text": [
      "8\n",
      "15\n",
      "\n"
     ]
    }
   ],
   "source": [
    "x1 = tf.constant(2)\n",
    "x2 = tf.constant(3)\n",
    "w1 = tf.constant(4)\n",
    "w2 = tf.constant(5)\n",
    "z1=tf.multiply(x1,w1)\n",
    "z2=tf.multiply(x2,w2)\n",
    "\n",
    "sess=tf.Session()\n",
    "print(z1.eval(session=sess))\n",
    "print(z2.eval(session=sess))\n",
    "print()\n",
    "sess.close()"
   ]
  },
  {
   "cell_type": "code",
   "execution_count": 44,
   "metadata": {},
   "outputs": [
    {
     "name": "stdout",
     "output_type": "stream",
     "text": [
      "8\n",
      "15\n"
     ]
    }
   ],
   "source": [
    "with tf.Session() as sess:\n",
    "    print(z1.eval())\n",
    "    print(z2.eval())"
   ]
  },
  {
   "cell_type": "code",
   "execution_count": 45,
   "metadata": {},
   "outputs": [
    {
     "name": "stdout",
     "output_type": "stream",
     "text": [
      "[7, 8]\n"
     ]
    }
   ],
   "source": [
    "c = tf.constant(5)\n",
    "x=c+ 1\n",
    "y=x+ 1\n",
    "z=x+ 2\n",
    "\n",
    "# x=tf.add(c,1)\n",
    "# y=tf.add(x,1)\n",
    "# z=tf.add()\n",
    "\n",
    "sess=tf.Session()\n",
    "print(sess.run([y,z]))\n",
    "\n",
    "sess.close()"
   ]
  },
  {
   "cell_type": "code",
   "execution_count": 1,
   "metadata": {},
   "outputs": [
    {
     "data": {
      "text/plain": [
       "0.9933071490757153"
      ]
     },
     "execution_count": 1,
     "metadata": {},
     "output_type": "execute_result"
    }
   ],
   "source": [
    "import numpy as np\n",
    "def sigmoid(z):\n",
    "    s=1.0/(1.0+np.exp(-z))\n",
    "    return s\n",
    "\n",
    "sigmoid(5)\n"
   ]
  },
  {
   "cell_type": "code",
   "execution_count": 2,
   "metadata": {},
   "outputs": [
    {
     "data": {
      "text/plain": [
       "0.9999092042625951"
      ]
     },
     "execution_count": 2,
     "metadata": {},
     "output_type": "execute_result"
    }
   ],
   "source": [
    "def tanh(z):\n",
    "    return np.tanh(z)\n",
    "tanh(5)"
   ]
  },
  {
   "cell_type": "code",
   "execution_count": 3,
   "metadata": {},
   "outputs": [
    {
     "data": {
      "text/plain": [
       "5"
      ]
     },
     "execution_count": 3,
     "metadata": {},
     "output_type": "execute_result"
    }
   ],
   "source": [
    "def relu(z):\n",
    "    return np.maximum(z,0)\n",
    "relu(5)"
   ]
  },
  {
   "cell_type": "code",
   "execution_count": 5,
   "metadata": {},
   "outputs": [
    {
     "data": {
      "text/plain": [
       "5.0"
      ]
     },
     "execution_count": 5,
     "metadata": {},
     "output_type": "execute_result"
    }
   ],
   "source": [
    "def lrelu(z,alpha):\n",
    "    return relu(z)-alpha*relu(-z)\n",
    "lrelu(-5,0.001)\n",
    "lrelu(5,0.001)"
   ]
  },
  {
   "cell_type": "markdown",
   "metadata": {},
   "source": [
    "# Linear Regression - TF"
   ]
  },
  {
   "cell_type": "code",
   "execution_count": 10,
   "metadata": {},
   "outputs": [
    {
     "name": "stdout",
     "output_type": "stream",
     "text": [
      "[[6.3200e-03 1.8000e+01 2.3100e+00 ... 1.5300e+01 3.9690e+02 4.9800e+00]\n",
      " [2.7310e-02 0.0000e+00 7.0700e+00 ... 1.7800e+01 3.9690e+02 9.1400e+00]\n",
      " [2.7290e-02 0.0000e+00 7.0700e+00 ... 1.7800e+01 3.9283e+02 4.0300e+00]\n",
      " ...\n",
      " [6.0760e-02 0.0000e+00 1.1930e+01 ... 2.1000e+01 3.9690e+02 5.6400e+00]\n",
      " [1.0959e-01 0.0000e+00 1.1930e+01 ... 2.1000e+01 3.9345e+02 6.4800e+00]\n",
      " [4.7410e-02 0.0000e+00 1.1930e+01 ... 2.1000e+01 3.9690e+02 7.8800e+00]]\n",
      "[24.  21.6 34.7 33.4 36.2 28.7 22.9 27.1 16.5 18.9 15.  18.9 21.7 20.4\n",
      " 18.2 19.9 23.1 17.5 20.2 18.2 13.6 19.6 15.2 14.5 15.6 13.9 16.6 14.8\n",
      " 18.4 21.  12.7 14.5 13.2 13.1 13.5 18.9 20.  21.  24.7 30.8 34.9 26.6\n",
      " 25.3 24.7 21.2 19.3 20.  16.6 14.4 19.4 19.7 20.5 25.  23.4 18.9 35.4\n",
      " 24.7 31.6 23.3 19.6 18.7 16.  22.2 25.  33.  23.5 19.4 22.  17.4 20.9\n",
      " 24.2 21.7 22.8 23.4 24.1 21.4 20.  20.8 21.2 20.3 28.  23.9 24.8 22.9\n",
      " 23.9 26.6 22.5 22.2 23.6 28.7 22.6 22.  22.9 25.  20.6 28.4 21.4 38.7\n",
      " 43.8 33.2 27.5 26.5 18.6 19.3 20.1 19.5 19.5 20.4 19.8 19.4 21.7 22.8\n",
      " 18.8 18.7 18.5 18.3 21.2 19.2 20.4 19.3 22.  20.3 20.5 17.3 18.8 21.4\n",
      " 15.7 16.2 18.  14.3 19.2 19.6 23.  18.4 15.6 18.1 17.4 17.1 13.3 17.8\n",
      " 14.  14.4 13.4 15.6 11.8 13.8 15.6 14.6 17.8 15.4 21.5 19.6 15.3 19.4\n",
      " 17.  15.6 13.1 41.3 24.3 23.3 27.  50.  50.  50.  22.7 25.  50.  23.8\n",
      " 23.8 22.3 17.4 19.1 23.1 23.6 22.6 29.4 23.2 24.6 29.9 37.2 39.8 36.2\n",
      " 37.9 32.5 26.4 29.6 50.  32.  29.8 34.9 37.  30.5 36.4 31.1 29.1 50.\n",
      " 33.3 30.3 34.6 34.9 32.9 24.1 42.3 48.5 50.  22.6 24.4 22.5 24.4 20.\n",
      " 21.7 19.3 22.4 28.1 23.7 25.  23.3 28.7 21.5 23.  26.7 21.7 27.5 30.1\n",
      " 44.8 50.  37.6 31.6 46.7 31.5 24.3 31.7 41.7 48.3 29.  24.  25.1 31.5\n",
      " 23.7 23.3 22.  20.1 22.2 23.7 17.6 18.5 24.3 20.5 24.5 26.2 24.4 24.8\n",
      " 29.6 42.8 21.9 20.9 44.  50.  36.  30.1 33.8 43.1 48.8 31.  36.5 22.8\n",
      " 30.7 50.  43.5 20.7 21.1 25.2 24.4 35.2 32.4 32.  33.2 33.1 29.1 35.1\n",
      " 45.4 35.4 46.  50.  32.2 22.  20.1 23.2 22.3 24.8 28.5 37.3 27.9 23.9\n",
      " 21.7 28.6 27.1 20.3 22.5 29.  24.8 22.  26.4 33.1 36.1 28.4 33.4 28.2\n",
      " 22.8 20.3 16.1 22.1 19.4 21.6 23.8 16.2 17.8 19.8 23.1 21.  23.8 23.1\n",
      " 20.4 18.5 25.  24.6 23.  22.2 19.3 22.6 19.8 17.1 19.4 22.2 20.7 21.1\n",
      " 19.5 18.5 20.6 19.  18.7 32.7 16.5 23.9 31.2 17.5 17.2 23.1 24.5 26.6\n",
      " 22.9 24.1 18.6 30.1 18.2 20.6 17.8 21.7 22.7 22.6 25.  19.9 20.8 16.8\n",
      " 21.9 27.5 21.9 23.1 50.  50.  50.  50.  50.  13.8 13.8 15.  13.9 13.3\n",
      " 13.1 10.2 10.4 10.9 11.3 12.3  8.8  7.2 10.5  7.4 10.2 11.5 15.1 23.2\n",
      "  9.7 13.8 12.7 13.1 12.5  8.5  5.   6.3  5.6  7.2 12.1  8.3  8.5  5.\n",
      " 11.9 27.9 17.2 27.5 15.  17.2 17.9 16.3  7.   7.2  7.5 10.4  8.8  8.4\n",
      " 16.7 14.2 20.8 13.4 11.7  8.3 10.2 10.9 11.   9.5 14.5 14.1 16.1 14.3\n",
      " 11.7 13.4  9.6  8.7  8.4 12.8 10.5 17.1 18.4 15.4 10.8 11.8 14.9 12.6\n",
      " 14.1 13.  13.4 15.2 16.1 17.8 14.9 14.1 12.7 13.5 14.9 20.  16.4 17.7\n",
      " 19.5 20.2 21.4 19.9 19.  19.1 19.1 20.1 19.9 19.6 23.2 29.8 13.8 13.3\n",
      " 16.7 12.  14.6 21.4 23.  23.7 25.  21.8 20.6 21.2 19.1 20.6 15.2  7.\n",
      "  8.1 13.6 20.1 21.8 24.5 23.1 19.7 18.3 21.2 17.5 16.8 22.4 20.6 23.9\n",
      " 22.  11.9]\n",
      "(506, 13)\n",
      "(506,)\n"
     ]
    }
   ],
   "source": [
    "from sklearn.datasets import load_boston\n",
    "import numpy as np\n",
    "boston=load_boston()\n",
    "#print(boston)\n",
    "features=np.array(boston.data)\n",
    "print(features)\n",
    "labels=np.array(boston.target)\n",
    "print(labels)\n",
    "print(features.shape)\n",
    "print(labels.shape)\n"
   ]
  },
  {
   "cell_type": "code",
   "execution_count": 11,
   "metadata": {},
   "outputs": [
    {
     "name": "stdout",
     "output_type": "stream",
     "text": [
      "The dataset has 506 training samples.\n",
      "The dataset has 13 features\n"
     ]
    }
   ],
   "source": [
    "n_training_samples=features.shape[0]\n",
    "n_dim=features.shape[1]\n",
    "print('The dataset has',n_training_samples,'training samples.')\n",
    "print('The dataset has',n_dim,'features')"
   ]
  },
  {
   "cell_type": "code",
   "execution_count": 12,
   "metadata": {},
   "outputs": [
    {
     "name": "stdout",
     "output_type": "stream",
     "text": [
      "[6.320e-03 1.800e+01 2.310e+00 0.000e+00 5.380e-01 6.575e+00 6.520e+01\n",
      " 4.090e+00 1.000e+00 2.960e+02 1.530e+01 3.969e+02 4.980e+00]\n"
     ]
    }
   ],
   "source": [
    "print(features[0])"
   ]
  },
  {
   "cell_type": "code",
   "execution_count": 13,
   "metadata": {},
   "outputs": [],
   "source": [
    "def normalize(dataset):\n",
    "    mu=np.mean(dataset,axis=0)\n",
    "    sigma=np.std(dataset,axis=0)\n",
    "    return(dataset-mu)/sigma\n",
    "#mu means mean value"
   ]
  },
  {
   "cell_type": "code",
   "execution_count": 14,
   "metadata": {},
   "outputs": [
    {
     "name": "stdout",
     "output_type": "stream",
     "text": [
      "[3.61352356e+00 1.13636364e+01 1.11367787e+01 6.91699605e-02\n",
      " 5.54695059e-01 6.28463439e+00 6.85749012e+01 3.79504269e+00\n",
      " 9.54940711e+00 4.08237154e+02 1.84555336e+01 3.56674032e+02\n",
      " 1.26530632e+01]\n",
      "13\n"
     ]
    }
   ],
   "source": [
    "mu = np.mean(features, axis = 0)\n",
    "print(mu)\n",
    "print(len(mu))"
   ]
  },
  {
   "cell_type": "code",
   "execution_count": 15,
   "metadata": {},
   "outputs": [
    {
     "name": "stdout",
     "output_type": "stream",
     "text": [
      "(339, 13)\n",
      "(167, 13)\n",
      "(339,)\n",
      "(167,)\n"
     ]
    }
   ],
   "source": [
    "features_norm=normalize(features)\n",
    "from sklearn.model_selection import train_test_split\n",
    "train_x,test_x,train_y,test_y=train_test_split(features_norm,\\\n",
    "                                              labels,test_size=0.33,random_state=42)\n",
    "print(train_x.shape)\n",
    "print(test_x.shape)\n",
    "print(train_y.shape)\n",
    "print(test_y.shape)"
   ]
  },
  {
   "cell_type": "code",
   "execution_count": 16,
   "metadata": {},
   "outputs": [
    {
     "name": "stdout",
     "output_type": "stream",
     "text": [
      "(13, 339)\n",
      "(13, 167)\n"
     ]
    }
   ],
   "source": [
    "train_x=np.transpose(train_x)\n",
    "test_x=np.transpose(test_x)\n",
    "print(train_x.shape)\n",
    "print(test_x.shape)"
   ]
  },
  {
   "cell_type": "code",
   "execution_count": 17,
   "metadata": {},
   "outputs": [
    {
     "name": "stdout",
     "output_type": "stream",
     "text": [
      "(339,)\n",
      "(167,)\n"
     ]
    }
   ],
   "source": [
    "train_y = np.transpose(train_y)\n",
    "test_y = np.transpose(test_y)\n",
    "print(train_y.shape)\n",
    "print(test_y.shape)"
   ]
  },
  {
   "cell_type": "code",
   "execution_count": 18,
   "metadata": {},
   "outputs": [
    {
     "name": "stdout",
     "output_type": "stream",
     "text": [
      "(1, 339)\n"
     ]
    }
   ],
   "source": [
    "train_y=train_y.reshape(1,len(train_y))\n",
    "print(train_y.shape)"
   ]
  },
  {
   "cell_type": "code",
   "execution_count": 19,
   "metadata": {},
   "outputs": [
    {
     "name": "stdout",
     "output_type": "stream",
     "text": [
      "WARNING:tensorflow:From C:\\Users\\vaio\\AppData\\Roaming\\Python\\Python37\\site-packages\\tensorflow\\python\\compat\\v2_compat.py:96: disable_resource_variables (from tensorflow.python.ops.variable_scope) is deprecated and will be removed in a future version.\n",
      "Instructions for updating:\n",
      "non-resource variables are not supported in the long term\n"
     ]
    }
   ],
   "source": [
    "import tensorflow.compat.v1 as tf\n",
    "tf.disable_v2_behavior()\n",
    "tf.reset_default_graph()"
   ]
  },
  {
   "cell_type": "code",
   "execution_count": 23,
   "metadata": {},
   "outputs": [
    {
     "name": "stdout",
     "output_type": "stream",
     "text": [
      "<tf.Variable 'Variable_3:0' shape=(13, 1) dtype=float32_ref>\n",
      "Tensor(\"Placeholder_7:0\", shape=(13, ?), dtype=float32)\n"
     ]
    }
   ],
   "source": [
    "X=tf.placeholder(tf.float32,[n_dim,None])\n",
    "Y=tf.placeholder(tf.float32,[1,None])\n",
    "W=tf.Variable(tf.ones([n_dim,1]))\n",
    "b=tf.Variable(tf.zeros(1))\n",
    "learning_rate=tf.placeholder(tf.float32,shape=())\n",
    "print(W)\n",
    "print(X)\n",
    "#print(Y)\n",
    "init=tf.global_variables_initializer()\n",
    "\n",
    "#construction of nodes using tesnors\n",
    "\n",
    "y_ = tf.matmul(tf.transpose(W),X)+b\n",
    "cost=tf.reduce_mean(tf.square(y_-Y))\n",
    "training_step=tf.train.GradientDescentOptimizer(learning_rate).minimize(cost)\n",
    "                    "
   ]
  },
  {
   "cell_type": "markdown",
   "metadata": {},
   "source": [
    "# ---evaluation state-------"
   ]
  },
  {
   "cell_type": "code",
   "execution_count": 25,
   "metadata": {},
   "outputs": [
    {
     "name": "stdout",
     "output_type": "stream",
     "text": [
      "Reached epoch 0 cost = 624.602173\n",
      "Reached epoch 10 cost = 376.235352\n",
      "Reached epoch 20 cost = 252.840805\n",
      "Reached epoch 30 cost = 175.591003\n",
      "Reached epoch 40 cost = 125.306023\n",
      "Reached epoch 50 cost = 92.219353\n",
      "Reached epoch 60 cost = 70.296379\n",
      "Reached epoch 70 cost = 55.677929\n",
      "Reached epoch 80 cost = 45.868675\n",
      "Reached epoch 90 cost = 39.243568\n",
      "Reached epoch 100 cost = 34.737511\n",
      "Reached epoch 110 cost = 31.648687\n",
      "Reached epoch 120 cost = 29.512304\n",
      "Reached epoch 130 cost = 28.019245\n",
      "Reached epoch 140 cost = 26.963037\n",
      "Reached epoch 150 cost = 26.205223\n",
      "Reached epoch 160 cost = 25.652580\n",
      "Reached epoch 170 cost = 25.242109\n",
      "Reached epoch 180 cost = 24.931047\n",
      "Reached epoch 190 cost = 24.690237\n",
      "Reached epoch 200 cost = 24.499680\n",
      "Reached epoch 210 cost = 24.345591\n",
      "Reached epoch 220 cost = 24.218390\n",
      "Reached epoch 230 cost = 24.111368\n",
      "Reached epoch 240 cost = 24.019793\n",
      "Reached epoch 250 cost = 23.940266\n",
      "Reached epoch 260 cost = 23.870333\n",
      "Reached epoch 270 cost = 23.808189\n",
      "Reached epoch 280 cost = 23.752485\n",
      "Reached epoch 290 cost = 23.702198\n",
      "Reached epoch 300 cost = 23.656532\n",
      "Reached epoch 310 cost = 23.614866\n",
      "Reached epoch 320 cost = 23.576698\n",
      "Reached epoch 330 cost = 23.541613\n",
      "Reached epoch 340 cost = 23.509281\n",
      "Reached epoch 350 cost = 23.479406\n",
      "Reached epoch 360 cost = 23.451750\n",
      "Reached epoch 370 cost = 23.426094\n",
      "Reached epoch 380 cost = 23.402264\n",
      "Reached epoch 390 cost = 23.380087\n",
      "Reached epoch 400 cost = 23.359428\n",
      "Reached epoch 410 cost = 23.340160\n",
      "Reached epoch 420 cost = 23.322163\n",
      "Reached epoch 430 cost = 23.305340\n",
      "Reached epoch 440 cost = 23.289595\n",
      "Reached epoch 450 cost = 23.274843\n",
      "Reached epoch 460 cost = 23.261009\n",
      "Reached epoch 470 cost = 23.248026\n",
      "Reached epoch 480 cost = 23.235832\n",
      "Reached epoch 490 cost = 23.224365\n",
      "Reached epoch 500 cost = 23.213573\n",
      "Reached epoch 510 cost = 23.203409\n",
      "Reached epoch 520 cost = 23.193827\n",
      "Reached epoch 530 cost = 23.184793\n",
      "Reached epoch 540 cost = 23.176262\n",
      "Reached epoch 550 cost = 23.168203\n",
      "Reached epoch 560 cost = 23.160583\n",
      "Reached epoch 570 cost = 23.153374\n",
      "Reached epoch 580 cost = 23.146551\n",
      "Reached epoch 590 cost = 23.140081\n",
      "Reached epoch 600 cost = 23.133953\n",
      "Reached epoch 610 cost = 23.128134\n",
      "Reached epoch 620 cost = 23.122610\n",
      "Reached epoch 630 cost = 23.117361\n",
      "Reached epoch 640 cost = 23.112371\n",
      "Reached epoch 650 cost = 23.107626\n",
      "Reached epoch 660 cost = 23.103109\n",
      "Reached epoch 670 cost = 23.098804\n",
      "Reached epoch 680 cost = 23.094704\n",
      "Reached epoch 690 cost = 23.090794\n",
      "Reached epoch 700 cost = 23.087059\n",
      "Reached epoch 710 cost = 23.083496\n",
      "Reached epoch 720 cost = 23.080088\n",
      "Reached epoch 730 cost = 23.076834\n",
      "Reached epoch 740 cost = 23.073719\n",
      "Reached epoch 750 cost = 23.070740\n",
      "Reached epoch 760 cost = 23.067886\n",
      "Reached epoch 770 cost = 23.065153\n",
      "Reached epoch 780 cost = 23.062532\n",
      "Reached epoch 790 cost = 23.060020\n",
      "Reached epoch 800 cost = 23.057611\n",
      "Reached epoch 810 cost = 23.055292\n",
      "Reached epoch 820 cost = 23.053072\n",
      "Reached epoch 830 cost = 23.050934\n",
      "Reached epoch 840 cost = 23.048882\n",
      "Reached epoch 850 cost = 23.046906\n",
      "Reached epoch 860 cost = 23.045010\n",
      "Reached epoch 870 cost = 23.043179\n",
      "Reached epoch 880 cost = 23.041414\n",
      "Reached epoch 890 cost = 23.039717\n",
      "Reached epoch 900 cost = 23.038082\n",
      "Reached epoch 910 cost = 23.036505\n",
      "Reached epoch 920 cost = 23.034983\n",
      "Reached epoch 930 cost = 23.033518\n",
      "Reached epoch 940 cost = 23.032101\n",
      "Reached epoch 950 cost = 23.030731\n",
      "Reached epoch 960 cost = 23.029411\n",
      "Reached epoch 970 cost = 23.028135\n",
      "Reached epoch 980 cost = 23.026899\n",
      "Reached epoch 990 cost = 23.025709\n",
      "Reached epoch 1000 cost = 23.024553\n"
     ]
    }
   ],
   "source": [
    "def run_linear_model(learning_r,training_epochs,train_obs,train_labels,debug=False):\n",
    "    sess=tf.Session()\n",
    "    sess.run(init)\n",
    "    cost_history=np.empty(shape=[0],dtype=float)\n",
    "    for epoch in range(training_epochs+1):\n",
    "        sess.run(training_step,feed_dict={X:train_obs,Y:train_labels,learning_rate:learning_r})\n",
    "        cost_=sess.run(cost,feed_dict={X:train_obs,Y:train_labels})\n",
    "        cost_history=np.append(cost_history,cost_)\n",
    "        if(epoch%10==0)&debug:\n",
    "            print(\"Reached epoch\", epoch, \"cost =\",str.format('{0:.6f}',cost_))\n",
    "        \n",
    "    return sess,cost_history\n",
    "\n",
    "sess, cost_history= run_linear_model(learning_r=0.01,\n",
    "                                                                 \n",
    "           training_epochs=1000,\n",
    "                                    train_obs=train_x,\n",
    "                                    train_labels=train_y,\n",
    "                                    debug=True)\n",
    "    \n",
    "    \n",
    "    \n"
   ]
  },
  {
   "cell_type": "code",
   "execution_count": 26,
   "metadata": {},
   "outputs": [
    {
     "data": {
      "text/plain": [
       "array([21.056932], dtype=float32)"
      ]
     },
     "execution_count": 26,
     "metadata": {},
     "output_type": "execute_result"
    }
   ],
   "source": [
    "accuracy=tf.keras.losses.MSE(test_y,y_)\n",
    "sess.run(accuracy,feed_dict={X:test_x})\n"
   ]
  },
  {
   "cell_type": "code",
   "execution_count": 27,
   "metadata": {},
   "outputs": [],
   "source": [
    "sess.close()"
   ]
  },
  {
   "cell_type": "markdown",
   "metadata": {},
   "source": [
    "# binary classification"
   ]
  },
  {
   "cell_type": "code",
   "execution_count": 1,
   "metadata": {},
   "outputs": [
    {
     "ename": "SyntaxError",
     "evalue": "invalid syntax (<ipython-input-1-23b5c40bbf67>, line 1)",
     "output_type": "error",
     "traceback": [
      "\u001b[1;36m  File \u001b[1;32m\"<ipython-input-1-23b5c40bbf67>\"\u001b[1;36m, line \u001b[1;32m1\u001b[0m\n\u001b[1;33m    Cross Entropy H(p,q) =  -\u001b[0m\n\u001b[1;37m                ^\u001b[0m\n\u001b[1;31mSyntaxError\u001b[0m\u001b[1;31m:\u001b[0m invalid syntax\n"
     ]
    }
   ],
   "source": [
    "#\n",
    "Cross Entropy H(p,q) =  - "
   ]
  },
  {
   "cell_type": "code",
   "execution_count": null,
   "metadata": {},
   "outputs": [],
   "source": [
    "from scipy to import loadmat\n",
    "import numpy as np\n",
    "import ten\n",
    "mnist=loadmat(\"\")"
   ]
  }
 ],
 "metadata": {
  "kernelspec": {
   "display_name": "Python 3",
   "language": "python",
   "name": "python3"
  },
  "language_info": {
   "codemirror_mode": {
    "name": "ipython",
    "version": 3
   },
   "file_extension": ".py",
   "mimetype": "text/x-python",
   "name": "python",
   "nbconvert_exporter": "python",
   "pygments_lexer": "ipython3",
   "version": "3.7.4"
  }
 },
 "nbformat": 4,
 "nbformat_minor": 2
}

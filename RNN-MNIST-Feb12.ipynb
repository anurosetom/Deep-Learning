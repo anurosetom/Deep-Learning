{
 "cells": [
  {
   "cell_type": "code",
   "execution_count": 4,
   "metadata": {},
   "outputs": [],
   "source": [
    "from keras.datasets import mnist\n",
    "(x_train,y_train),(x_test,y_test)=mnist.load_data()"
   ]
  },
  {
   "cell_type": "code",
   "execution_count": 5,
   "metadata": {},
   "outputs": [
    {
     "name": "stdout",
     "output_type": "stream",
     "text": [
      "(60000, 28, 28)\n",
      "10\n"
     ]
    }
   ],
   "source": [
    "import numpy as np\n",
    "print(x_train.shape)\n",
    "num_labels=len(np.unique(y_train))\n",
    "print(num_labels)"
   ]
  },
  {
   "cell_type": "code",
   "execution_count": 6,
   "metadata": {},
   "outputs": [
    {
     "name": "stdout",
     "output_type": "stream",
     "text": [
      "5\n",
      "[0. 0. 0. 0. 0. 1. 0. 0. 0. 0.]\n"
     ]
    }
   ],
   "source": [
    "from keras.utils import to_categorical\n",
    "print(y_train[0])\n",
    "y_train=to_categorical(y_train)\n",
    "y_test=to_categorical(y_test)\n",
    "print(y_train[0])"
   ]
  },
  {
   "cell_type": "code",
   "execution_count": 7,
   "metadata": {},
   "outputs": [
    {
     "name": "stdout",
     "output_type": "stream",
     "text": [
      "28\n"
     ]
    }
   ],
   "source": [
    "image_size=x_train.shape[1]\n",
    "print(image_size)"
   ]
  },
  {
   "cell_type": "code",
   "execution_count": 8,
   "metadata": {},
   "outputs": [
    {
     "name": "stdout",
     "output_type": "stream",
     "text": [
      "(60000, 28, 28)\n",
      "3\n"
     ]
    }
   ],
   "source": [
    "#samples, time step, features\n",
    "x_train=np.reshape(x_train,[-1,image_size,image_size])\n",
    "x_test=np.reshape(x_test,[-1,image_size,image_size])\n",
    "print(x_train.shape)\n",
    "print(x_train.ndim)"
   ]
  },
  {
   "cell_type": "code",
   "execution_count": 9,
   "metadata": {},
   "outputs": [],
   "source": [
    "x_train=x_train.astype('float32')/255\n",
    "x_test=x_test.astype('float32')/255"
   ]
  },
  {
   "cell_type": "code",
   "execution_count": 10,
   "metadata": {},
   "outputs": [],
   "source": [
    "#model is RNN with 256 units, input is 28-ndim vector 28 timesteps\n",
    "input_shape=(image_size,image_size)\n",
    "batch_size=128\n",
    "units=256\n",
    "dropout=0.2"
   ]
  },
  {
   "cell_type": "code",
   "execution_count": 11,
   "metadata": {},
   "outputs": [
    {
     "name": "stdout",
     "output_type": "stream",
     "text": [
      "Model: \"sequential\"\n",
      "_________________________________________________________________\n",
      "Layer (type)                 Output Shape              Param #   \n",
      "=================================================================\n",
      "simple_rnn (SimpleRNN)       (None, 256)               72960     \n",
      "_________________________________________________________________\n",
      "dense (Dense)                (None, 10)                2570      \n",
      "_________________________________________________________________\n",
      "activation (Activation)      (None, 10)                0         \n",
      "=================================================================\n",
      "Total params: 75,530\n",
      "Trainable params: 75,530\n",
      "Non-trainable params: 0\n",
      "_________________________________________________________________\n"
     ]
    },
    {
     "data": {
      "image/png": "[encoded data removed]",
      "text/plain": [
       "<IPython.core.display.Image object>"
      ]
     },
     "execution_count": 11,
     "metadata": {},
     "output_type": "execute_result"
    }
   ],
   "source": [
    "from keras.models import Sequential\n",
    "from keras.layers import Dense,Activation, SimpleRNN\n",
    "from keras.utils import plot_model\n",
    "model=Sequential()\n",
    "model.add(SimpleRNN(units=units,dropout=dropout,input_shape=input_shape))\n",
    "model.add(Dense(num_labels))\n",
    "model.add(Activation('softmax'))\n",
    "model.summary()\n",
    "plot_model(model,to_file='rnn-mnist.png',show_dtype=True)"
   ]
  },
  {
   "cell_type": "code",
   "execution_count": 13,
   "metadata": {},
   "outputs": [],
   "source": [
    "model.compile(loss='categorical_crossentropy',optimizer='sgd',\n",
    "             metrics=['accuracy'])"
   ]
  },
  {
   "cell_type": "code",
   "execution_count": 14,
   "metadata": {},
   "outputs": [
    {
     "name": "stdout",
     "output_type": "stream",
     "text": [
      "Epoch 1/20\n",
      "469/469 [==============================] - 53s 105ms/step - loss: 1.1541 - accuracy: 0.6568\n",
      "Epoch 2/20\n",
      "469/469 [==============================] - 50s 107ms/step - loss: 0.3493 - accuracy: 0.8998\n",
      "Epoch 3/20\n",
      "469/469 [==============================] - 56s 120ms/step - loss: 0.2540 - accuracy: 0.9243\n",
      "Epoch 4/20\n",
      "469/469 [==============================] - 53s 113ms/step - loss: 0.2009 - accuracy: 0.9390\n",
      "Epoch 5/20\n",
      "469/469 [==============================] - 58s 125ms/step - loss: 0.1660 - accuracy: 0.9508\n",
      "Epoch 6/20\n",
      "469/469 [==============================] - 64s 136ms/step - loss: 0.1475 - accuracy: 0.9568\n",
      "Epoch 7/20\n",
      "469/469 [==============================] - 56s 119ms/step - loss: 0.1335 - accuracy: 0.9603\n",
      "Epoch 8/20\n",
      "469/469 [==============================] - 59s 127ms/step - loss: 0.1257 - accuracy: 0.9620\n",
      "Epoch 9/20\n",
      "469/469 [==============================] - 67s 142ms/step - loss: 0.1145 - accuracy: 0.9648\n",
      "Epoch 10/20\n",
      "469/469 [==============================] - 58s 123ms/step - loss: 0.1060 - accuracy: 0.9677\n",
      "Epoch 11/20\n",
      "469/469 [==============================] - 62s 132ms/step - loss: 0.0992 - accuracy: 0.9709\n",
      "Epoch 12/20\n",
      "469/469 [==============================] - 65s 138ms/step - loss: 0.0976 - accuracy: 0.9698\n",
      "Epoch 13/20\n",
      "469/469 [==============================] - 58s 124ms/step - loss: 0.0965 - accuracy: 0.9703\n",
      "Epoch 14/20\n",
      "469/469 [==============================] - 64s 137ms/step - loss: 0.0904 - accuracy: 0.9724\n",
      "Epoch 15/20\n",
      "469/469 [==============================] - 68s 144ms/step - loss: 0.0817 - accuracy: 0.9756\n",
      "Epoch 16/20\n",
      "469/469 [==============================] - 60s 129ms/step - loss: 0.0745 - accuracy: 0.9776\n",
      "Epoch 17/20\n",
      "469/469 [==============================] - 68s 144ms/step - loss: 0.0760 - accuracy: 0.9770\n",
      "Epoch 18/20\n",
      "469/469 [==============================] - 64s 136ms/step - loss: 0.0717 - accuracy: 0.9786\n",
      "Epoch 19/20\n",
      "469/469 [==============================] - 65s 138ms/step - loss: 0.0707 - accuracy: 0.9785\n",
      "Epoch 20/20\n",
      "469/469 [==============================] - 66s 142ms/step - loss: 0.0699 - accuracy: 0.9794\n"
     ]
    },
    {
     "data": {
      "text/plain": [
       "<tensorflow.python.keras.callbacks.History at 0x240d4ed6e88>"
      ]
     },
     "execution_count": 14,
     "metadata": {},
     "output_type": "execute_result"
    }
   ],
   "source": [
    "model.fit(x_train,y_train,epochs=20,batch_size=batch_size)"
   ]
  },
  {
   "cell_type": "code",
   "execution_count": 15,
   "metadata": {},
   "outputs": [
    {
     "name": "stdout",
     "output_type": "stream",
     "text": [
      "79/79 [==============================] - 4s 37ms/step - loss: 0.0623 - accuracy: 0.9792\n",
      "\n",
      "Test accuracy: 97.9%\n"
     ]
    }
   ],
   "source": [
    "loss,acc = model.evaluate(x_test, y_test, batch_size=batch_size)\n",
    "print(\"\\nTest accuracy: %.1f%%\" % (100.0 * acc))"
   ]
  },
  {
   "cell_type": "code",
   "execution_count": null,
   "metadata": {},
   "outputs": [],
   "source": []
  }
 ],
 "metadata": {
  "kernelspec": {
   "display_name": "Python 3",
   "language": "python",
   "name": "python3"
  },
  "language_info": {
   "codemirror_mode": {
    "name": "ipython",
    "version": 3
   },
   "file_extension": ".py",
   "mimetype": "text/x-python",
   "name": "python",
   "nbconvert_exporter": "python",
   "pygments_lexer": "ipython3",
   "version": "3.7.4"
  }
 },
 "nbformat": 4,
 "nbformat_minor": 2
}
